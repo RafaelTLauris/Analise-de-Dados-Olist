{
 "cells": [
  {
   "cell_type": "markdown",
   "id": "8264201c",
   "metadata": {
    "papermill": {
     "duration": 0.023414,
     "end_time": "2022-07-20T18:10:21.923643",
     "exception": false,
     "start_time": "2022-07-20T18:10:21.900229",
     "status": "completed"
    },
    "tags": []
   },
   "source": [
    "<h1 style=\"color: orange\">Análise Exploratória de Dados</h1>\n",
    "\n",
    "<p>Bem-vindos! Neste projeto, irei mostrar como realizei uma <strong>análise exploratória de dados</strong> da base de dados de e-commerce de uma grande empresa brasileira, a <strong>Olist</strong>.</p>\n",
    "\n",
    "<p>A <strong>análise exploratória de dados</strong> é uma das principais técnicas utilizadas em <strong>Data Science</strong>, pois nos permite compreender melhor os dados e encontrar <em>insights</em> valiosos que podem ser usados em decisões de negócios. Neste notebook, irei explorar a base de dados da Olist e responder algumas perguntas importantes sobre o comportamento dos consumidores no mercado de e-commerce.</p>\n",
    "\n",
    "<p>Para isso, usarei a linguagem <strong>Python</strong> e as bibliotecas <strong>Pandas</strong>, <strong>Numpy</strong> e <strong>Matplotlib</strong> para manipulação e visualização de dados. Além disso, utilizarei a biblioteca <strong>Plotly</strong> para criar gráficos interativos e mais complexos, permitindo uma análise mais detalhada dos dados.</p>\n",
    "\n",
    "\n",
    "(Esse notebook teve com base diversas análises de dados e EDAs)"
   ]
  },
  {
   "cell_type": "markdown",
   "id": "2d7af9b4",
   "metadata": {},
   "source": [
    "<h2 style=\"color: orange\">Quais dados vamos analisar?</h2>\n",
    "\n",
    "<p>Vamos analisar o conjunto de comércio eletrônico brasileiro de pedidos feitos na loja Olist.</p>\n",
    "\n",
    "<p>Olist é uma plataforma de comércio eletrônico brasileira que conecta pequenas empresas a canais de vendas online, permitindo que vendam seus produtos em vários marketplaces do Brasil. A empresa também oferece serviços de logística e gerenciamento de pedidos para seus clientes.</p>\n",
    "\n",
    "<p>O conjunto de dados possui informações de 100 mil pedidos de 2016 a 2018 realizados em vários marketplaces no Brasil. Suas características permitem visualizar um pedido em múltiplas dimensões: desde o status do pedido, preço, desempenho de pagamento e frete até a localização do cliente, atributos do produto e, finalmente, avaliações escritas pelos clientes. <i><strong>Também lançei um conjunto de dados de geolocalização que relaciona os códigos postais brasileiros às coordenadas (latitude/longitude).</strong></i></p>\n",
    "\n",
    "<p><strong>Obs:</strong> Todo o texto que identifica lojas e parceiros foi substituído pelos nomes das grandes casas de Game of Thrones.</p>\n",
    "<br>\n",
    "\n",
    "<p>* Informações retiradas do dataset publicado no Kaggle e traduzido pelo autor</p>\n",
    "\n"
   ]
  },
  {
   "cell_type": "markdown",
   "id": "aeaa863a",
   "metadata": {},
   "source": [
    "<h2 style=\"color: orange\">Importando bibliotecas</h2>\n",
    "\n",
    "Este trecho de código importa as bibliotecas utilizadas nesta análise de dados, incluindo as bibliotecas para visualização de dados `matplotlib.pyplot`, `plotly.graph_objects` e `plotly.express`. \n",
    "\n",
    "- `pandas` é uma biblioteca para manipulação e análise de dados, incluindo estruturas de dados e ferramentas para leitura e escrita de arquivos.\n",
    "- `numpy` é uma biblioteca para computação numérica com Python, que inclui funções para manipulação de arrays e matrizes multidimensionais.\n",
    "- `matplotlib.pyplot` é uma biblioteca para visualização de dados em Python, que inclui funções para criação de gráficos e visualizações.\n",
    "- `plotly.graph_objects` é uma biblioteca para criação de gráficos interativos e complexos, que permite a personalização completa dos gráficos.\n",
    "- `plotly.express` é uma biblioteca de visualização de dados de alto nível baseada no `plotly.graph_objects`, que oferece uma interface fácil de usar para a criação de gráficos estatísticos atraentes e informativos.\n",
    "- `datetime` é um módulo que fornece classes para trabalhar com datas e horários em Python.\n",
    "- `warnings` é um módulo que permite emitir avisos durante a execução do código."
   ]
  },
  {
   "cell_type": "code",
   "execution_count": null,
   "id": "a69ed592",
   "metadata": {
    "execution": {
     "iopub.execute_input": "2022-07-20T18:10:21.968043Z",
     "iopub.status.busy": "2022-07-20T18:10:21.967623Z",
     "iopub.status.idle": "2022-07-20T18:10:23.637416Z",
     "shell.execute_reply": "2022-07-20T18:10:23.636236Z"
    },
    "papermill": {
     "duration": 1.695804,
     "end_time": "2022-07-20T18:10:23.640278",
     "exception": false,
     "start_time": "2022-07-20T18:10:21.944474",
     "status": "completed"
    },
    "tags": []
   },
   "outputs": [],
   "source": [
    "import pandas as pd\n",
    "import numpy as np\n",
    "import matplotlib.pyplot as plt \n",
    "# Mais elaborados\n",
    "import plotly.graph_objects as go\n",
    "# Mais fácil, de pronto tem gráficos bonitos\n",
    "import plotly.express as px\n",
    "import datetime\n",
    "import warnings\n",
    "warnings.filterwarnings(\"ignore\")"
   ]
  },
  {
   "cell_type": "markdown",
   "id": "fb3feb95",
   "metadata": {},
   "source": [
    "<h2 style=\"color: orange\">Importar os dados</h2>\n",
    "\n",
    "Vamos utilizar a base de dados da Olist que está disponível no Kaggle. Para baixar os dados clique [aqui](https://www.kaggle.com/datasets/olistbr/brazilian-ecommerce)\n",
    "\n",
    "Este trecho de código carrega os dados em formato CSV de diferentes arquivos, usando a biblioteca `pandas` para criar um `DataFrame` para cada arquivo. \n",
    "\n",
    "- `pd.read_csv()` é uma função da biblioteca `pandas` que lê um arquivo CSV e retorna um `DataFrame`.\n",
    "- `customers_df`, `geo_df`, `orderitem_df`, `orderpay_df`, `orderreviews_df`, `orders_df`, `products_df`, `sellers_df` e `categname_df` são os nomes dos `DataFrames` criados para cada arquivo CSV.\n",
    "- `pd.set_option('display.max_columns', 500)` é um comando usado para definir o número máximo de colunas que podem ser exibidas na saída dos `DataFrames`."
   ]
  },
  {
   "cell_type": "code",
   "execution_count": null,
   "id": "7062d47b",
   "metadata": {
    "execution": {
     "iopub.execute_input": "2022-07-20T18:10:23.733000Z",
     "iopub.status.busy": "2022-07-20T18:10:23.732609Z",
     "iopub.status.idle": "2022-07-20T18:10:27.664040Z",
     "shell.execute_reply": "2022-07-20T18:10:27.662958Z"
    },
    "papermill": {
     "duration": 3.955834,
     "end_time": "2022-07-20T18:10:27.666816",
     "exception": false,
     "start_time": "2022-07-20T18:10:23.710982",
     "status": "completed"
    },
    "tags": []
   },
   "outputs": [],
   "source": [
    "customers_df = pd.read_csv(\"./DSX-arquivos/raw/olist_customers_dataset.csv\")\n",
    "geo_df = pd.read_csv(\"./DSX-arquivos/raw/olist_geolocation_dataset.csv\")\n",
    "orderitem_df = pd.read_csv(\"./DSX-arquivos/raw/olist_order_items_dataset.csv\")\n",
    "orderpay_df = pd.read_csv(\"./DSX-arquivos/raw/olist_order_payments_dataset.csv\")\n",
    "orderreviews_df = pd.read_csv(\"./DSX-arquivos/raw/olist_order_reviews_dataset.csv\")\n",
    "orders_df = pd.read_csv(\"./DSX-arquivos/raw/olist_orders_dataset.csv\")\n",
    "products_df = pd.read_csv(\"./DSX-arquivos/raw/olist_products_dataset.csv\")\n",
    "sellers_df = pd.read_csv(\"./DSX-arquivos/raw/olist_sellers_dataset.csv\")\n",
    "categname_df = pd.read_csv(\"./DSX-arquivos/raw/product_category_name_translation.csv\")\n",
    "pd.set_option('display.max_columns', 500)"
   ]
  },
  {
   "cell_type": "code",
   "execution_count": null,
   "id": "d5ece2ed",
   "metadata": {},
   "outputs": [],
   "source": [
    "# Vendo as 10 linhas do arquivo de clientes\n",
    "customers_df.head(10)"
   ]
  },
  {
   "cell_type": "code",
   "execution_count": null,
   "id": "73907a35",
   "metadata": {},
   "outputs": [],
   "source": [
    "# Quantas linhas e colunas tem o dataframe de clientes\n",
    "customers_df.shape"
   ]
  },
  {
   "cell_type": "markdown",
   "id": "ed530d69",
   "metadata": {},
   "source": [
    "<h2 style=\"color: orange\">Visualizando os Dados</h2>\n",
    "\n",
    "Visualizando algumas linhas dos dados, avaliando os tipos de colunas e como as diferentes bases se relacionam."
   ]
  },
  {
   "cell_type": "code",
   "execution_count": null,
   "id": "eb41292f",
   "metadata": {},
   "outputs": [],
   "source": [
    "print(\"customers_df:\")\n",
    "display(customers_df.head())\n",
    "\n",
    "print(\"\\ngeo_df:\")\n",
    "display(geo_df.head())\n",
    "\n",
    "print(\"\\norderitem_df:\")\n",
    "display(orderitem_df.head())\n",
    "\n",
    "print(\"\\norderpay_df:\")\n",
    "display(orderpay_df.head())\n",
    "\n",
    "print(\"\\norderreviews_df:\")\n",
    "display(orderreviews_df.head())\n",
    "\n",
    "print(\"\\norders_df:\")\n",
    "display(orders_df.head())\n",
    "\n",
    "print(\"\\nproducts_df:\")\n",
    "display(products_df.head())\n",
    "\n",
    "print(\"\\nsellers_df:\")\n",
    "display(sellers_df.head())\n",
    "\n",
    "print(\"\\ncategname_df:\")\n",
    "display(categname_df.head())"
   ]
  },
  {
   "cell_type": "code",
   "execution_count": null,
   "id": "a0e24b68",
   "metadata": {},
   "outputs": [],
   "source": [
    "print(\"customers_df:\\n\")\n",
    "display(customers_df.info())\n",
    "\n",
    "print(\"\\ngeo_df:\\n\")\n",
    "display(geo_df.info())\n",
    "\n",
    "print(\"\\norderitem_df:\\n\")\n",
    "display(orderitem_df.info())\n",
    "\n",
    "print(\"\\norderpay_df:\\n\")\n",
    "display(orderpay_df.info())\n",
    "\n",
    "print(\"\\norderreviews_df:\\n\")\n",
    "display(orderreviews_df.info())\n",
    "\n",
    "print(\"\\norders_df:\\n\")\n",
    "display(orders_df.info())\n",
    "\n",
    "print(\"\\nproducts_df:\\n\")\n",
    "display(products_df.info())\n",
    "\n",
    "print(\"\\nsellers_df:\\n\")\n",
    "display(sellers_df.info())\n",
    "\n",
    "print(\"\\ncategname_df:\\n\")\n",
    "display(categname_df.info())"
   ]
  },
  {
   "cell_type": "markdown",
   "id": "17f545d7",
   "metadata": {},
   "source": [
    "<h2 style=\"color: orange\">Renomeando Colunas</h2>\n",
    "\n",
    "Este trecho de código renomeia a coluna `customer_zip_code_prefix` do `DataFrame` `customers_df` para `zip_code` e a coluna `geolocation_zip_code_prefix` do `DataFrame` `geo_df` para `zip_code`, usando o método `rename()` da biblioteca `pandas`. \n",
    "\n",
    "- `customers_df` e `geo_df` são `DataFrames` que foram criados anteriormente a partir de arquivos CSV.\n",
    "- `{\"customer_zip_code_prefix\": \"zip_code\"}` e `{\"geolocation_zip_code_prefix\": \"zip_code\"}` são dicionários que indicam os nomes antigos e novos das colunas que devem ser renomeadas, respectivamente.\n",
    "- `rename()` é um método do objeto `DataFrame` que permite renomear colunas, índices ou ambos em um `DataFrame`.\n",
    "- `customers_df = customers_df.rename(columns={\"customer_zip_code_prefix\": \"zip_code\"})` e `geo_df = geo_df.rename(columns={\"geolocation_zip_code_prefix\": \"zip_code\"})` são as atribuições que fazem com que as alterações sejam salvas nos próprios `DataFrames` originais, em vez de criar novos `DataFrames` com as alterações.\n"
   ]
  },
  {
   "cell_type": "code",
   "execution_count": null,
   "id": "d7ec55c0",
   "metadata": {
    "execution": {
     "iopub.execute_input": "2022-07-20T18:10:27.711552Z",
     "iopub.status.busy": "2022-07-20T18:10:27.711126Z",
     "iopub.status.idle": "2022-07-20T18:10:27.725818Z",
     "shell.execute_reply": "2022-07-20T18:10:27.724636Z"
    },
    "papermill": {
     "duration": 0.040271,
     "end_time": "2022-07-20T18:10:27.728347",
     "exception": false,
     "start_time": "2022-07-20T18:10:27.688076",
     "status": "completed"
    },
    "tags": []
   },
   "outputs": [],
   "source": [
    "customers_df = customers_df.rename(columns={\"customer_zip_code_prefix\": \"zip_code\"})\n",
    "geo_df = geo_df.rename(columns={\"geolocation_zip_code_prefix\": \"zip_code\"})"
   ]
  },
  {
   "cell_type": "code",
   "execution_count": null,
   "id": "cc471feb",
   "metadata": {},
   "outputs": [],
   "source": [
    "customers_df.head()"
   ]
  },
  {
   "cell_type": "markdown",
   "id": "f0db8014",
   "metadata": {},
   "source": [
    "<h2 style=\"color: orange\">Juntando os DataFrames</h2>\n",
    "\n",
    "Este trecho de código combina os DataFrames `orders_df`, `customers_df`, `orderitem_df`, `products_df`, `categname_df`, `orderpay_df`, `sellers_df` e `orderreviews_df`, usando o método `merge()` da biblioteca `pandas`. Cada DataFrame é combinado com o próximo usando uma coluna em comum como chave de junção. \n",
    "\n",
    "O resultado da combinação é salvo em um novo DataFrame chamado `dados_completos`. Ao final dessa operação, o DataFrame `dados_completos` contém informações sobre os pedidos, clientes, itens do pedido, produtos, categorias de produtos, pagamentos, vendedores e avaliações de pedidos.\n",
    "\n",
    "Esse processo de combinar vários DataFrames em um só é útil para consolidar dados dispersos em um único lugar e facilitar a análise dos dados.\n"
   ]
  },
  {
   "cell_type": "code",
   "execution_count": null,
   "id": "a4826d8e",
   "metadata": {
    "execution": {
     "iopub.execute_input": "2022-07-20T18:10:27.772428Z",
     "iopub.status.busy": "2022-07-20T18:10:27.772029Z",
     "iopub.status.idle": "2022-07-20T18:10:28.790717Z",
     "shell.execute_reply": "2022-07-20T18:10:28.789512Z"
    },
    "papermill": {
     "duration": 1.044394,
     "end_time": "2022-07-20T18:10:28.793654",
     "exception": false,
     "start_time": "2022-07-20T18:10:27.749260",
     "status": "completed"
    },
    "tags": []
   },
   "outputs": [],
   "source": [
    "data = orders_df.merge(customers_df, on=\"customer_id\").merge(orderitem_df, on=\"order_id\").merge(products_df, on=\"product_id\").merge(categname_df, on=\"product_category_name\").merge(orderpay_df, on=\"order_id\").merge(sellers_df, on=\"seller_id\").merge(orderreviews_df, on=\"order_id\")"
   ]
  },
  {
   "cell_type": "code",
   "execution_count": null,
   "id": "c0597e51",
   "metadata": {
    "execution": {
     "iopub.execute_input": "2022-07-20T18:10:28.837259Z",
     "iopub.status.busy": "2022-07-20T18:10:28.836834Z",
     "iopub.status.idle": "2022-07-20T18:10:28.883850Z",
     "shell.execute_reply": "2022-07-20T18:10:28.882354Z"
    },
    "papermill": {
     "duration": 0.072099,
     "end_time": "2022-07-20T18:10:28.886587",
     "exception": false,
     "start_time": "2022-07-20T18:10:28.814488",
     "status": "completed"
    },
    "scrolled": true,
    "tags": []
   },
   "outputs": [],
   "source": [
    "data.head()"
   ]
  },
  {
   "cell_type": "markdown",
   "id": "b1f4ff7a",
   "metadata": {
    "papermill": {
     "duration": 0.020766,
     "end_time": "2022-07-20T18:10:28.929007",
     "exception": false,
     "start_time": "2022-07-20T18:10:28.908241",
     "status": "completed"
    },
    "tags": []
   },
   "source": [
    "Temos ids de pedidos duplicados. Isso se deve ao fato de que o mesmo pedido pode ser pago com vários métodos de pagamento diferentes."
   ]
  },
  {
   "cell_type": "code",
   "execution_count": null,
   "id": "44cbc5c2",
   "metadata": {
    "execution": {
     "iopub.execute_input": "2022-07-20T18:10:28.973583Z",
     "iopub.status.busy": "2022-07-20T18:10:28.972329Z",
     "iopub.status.idle": "2022-07-20T18:10:29.319793Z",
     "shell.execute_reply": "2022-07-20T18:10:29.319021Z"
    },
    "papermill": {
     "duration": 0.371905,
     "end_time": "2022-07-20T18:10:29.321923",
     "exception": false,
     "start_time": "2022-07-20T18:10:28.950018",
     "status": "completed"
    },
    "tags": []
   },
   "outputs": [],
   "source": [
    "# Porcentagem de valores nulos\n",
    "(100 * data.isna().sum() / len(data) ).sort_values(ascending=False)"
   ]
  },
  {
   "cell_type": "code",
   "execution_count": null,
   "id": "47394578",
   "metadata": {
    "execution": {
     "iopub.execute_input": "2022-07-20T18:10:29.367110Z",
     "iopub.status.busy": "2022-07-20T18:10:29.365986Z",
     "iopub.status.idle": "2022-07-20T18:10:29.632351Z",
     "shell.execute_reply": "2022-07-20T18:10:29.631232Z"
    },
    "papermill": {
     "duration": 0.291635,
     "end_time": "2022-07-20T18:10:29.634779",
     "exception": false,
     "start_time": "2022-07-20T18:10:29.343144",
     "status": "completed"
    },
    "scrolled": true,
    "tags": []
   },
   "outputs": [],
   "source": [
    "# Estatística descritiva básica\n",
    "data.describe()"
   ]
  },
  {
   "cell_type": "markdown",
   "id": "ab1b4091",
   "metadata": {
    "papermill": {
     "duration": 0.021251,
     "end_time": "2022-07-20T18:10:29.677596",
     "exception": false,
     "start_time": "2022-07-20T18:10:29.656345",
     "status": "completed"
    },
    "tags": []
   },
   "source": [
    "<h2 style=\"color: orange\">Como estão distribuídas as avaliações?</h2>\n",
    "\n"
   ]
  },
  {
   "cell_type": "code",
   "execution_count": null,
   "id": "e92e9379",
   "metadata": {},
   "outputs": [],
   "source": [
    "fig = px.histogram(data, x=\"review_score\")\n",
    "fig.show()"
   ]
  },
  {
   "cell_type": "code",
   "execution_count": null,
   "id": "ee7e0c32",
   "metadata": {},
   "outputs": [],
   "source": [
    "percentage = data[\"review_score\"].value_counts(normalize=True) * 100\n",
    "\n",
    "fig = px.bar(percentage, x=percentage.index, y=percentage.values, text=percentage.values, labels={\"x\": \"Nota\", \"y\": \"Percentagem\"})\n",
    "fig.update_traces(texttemplate='%{text:.2f}%', textposition='outside')\n",
    "fig.show()\n"
   ]
  },
  {
   "cell_type": "markdown",
   "id": "1a451ae1",
   "metadata": {
    "papermill": {
     "duration": 0.021883,
     "end_time": "2022-07-20T18:10:29.996313",
     "exception": false,
     "start_time": "2022-07-20T18:10:29.974430",
     "status": "completed"
    },
    "tags": []
   },
   "source": [
    "Mais de 75% dos clientes deram uma pontuação igual ou maior que 4. 12,5% deram uma pontuação de 1 e cerca de 12% deram uma pontuação de 3 ou 2."
   ]
  },
  {
   "cell_type": "markdown",
   "id": "4c976aa6",
   "metadata": {
    "papermill": {
     "duration": 0.021688,
     "end_time": "2022-07-20T18:10:30.040191",
     "exception": false,
     "start_time": "2022-07-20T18:10:30.018503",
     "status": "completed"
    },
    "tags": []
   },
   "source": [
    "<h2 style=\"color: orange\">Proporção de clientes gerando a maior parte da receita.</h2>\n",
    "\n",
    "<p>Irei começar com a proporção de clientes que mais gastam.</p>\n"
   ]
  },
  {
   "cell_type": "code",
   "execution_count": null,
   "id": "6f52e190",
   "metadata": {
    "execution": {
     "iopub.execute_input": "2022-07-20T18:10:30.087129Z",
     "iopub.status.busy": "2022-07-20T18:10:30.086421Z",
     "iopub.status.idle": "2022-07-20T18:10:30.352689Z",
     "shell.execute_reply": "2022-07-20T18:10:30.351497Z"
    },
    "papermill": {
     "duration": 0.292517,
     "end_time": "2022-07-20T18:10:30.355259",
     "exception": false,
     "start_time": "2022-07-20T18:10:30.062742",
     "status": "completed"
    },
    "tags": []
   },
   "outputs": [],
   "source": [
    "# Clientes com o maior número cumulativo de pedidos (em pagamentos).\n",
    "top_customers = data.groupby(\"customer_unique_id\")[\"payment_value\"].sum().reset_index().sort_values(\"payment_value\", ascending=False)\n",
    "top_customers.rename(columns={\"payment_value\":\"total_paid\"}, inplace=True)"
   ]
  },
  {
   "cell_type": "code",
   "execution_count": null,
   "id": "cef62cf5",
   "metadata": {},
   "outputs": [],
   "source": [
    "# calcular as colunas \"% of Total Sales\" e \"Cum % of Total Sales\"\n",
    "top_customers[\"% of Total Sales\"] = (top_customers[\"total_paid\"] / top_customers[\"total_paid\"].sum()) * 100\n",
    "top_customers[\"Cum % of Total Sales\"] = top_customers[\"% of Total Sales\"].cumsum()"
   ]
  },
  {
   "cell_type": "code",
   "execution_count": null,
   "id": "acc0b7e9",
   "metadata": {},
   "outputs": [],
   "source": [
    "# criar um gráfico de linhas do Plotly\n",
    "fig = px.line(top_customers, x=range(1, len(top_customers) + 1), y=\"Cum % of Total Sales\")\n",
    "\n",
    "# definir as etiquetas do eixo x e y e o título do gráfico\n",
    "fig.update_layout(\n",
    "    xaxis_title=\"Número de Clientes\",\n",
    "    yaxis_title=\"Total Vendas Cumulativo %\",\n",
    "    title=\"Contribuição % para as vendas por número de clientes\"\n",
    ")\n",
    "\n",
    "# adicionar uma linha de preenchimento abaixo do gráfico\n",
    "fig.add_shape(\n",
    "    type=\"rect\",\n",
    "    xref=\"x\",\n",
    "    yref=\"paper\",\n",
    "    x0=0,\n",
    "    y0=0,\n",
    "    x1=40000,\n",
    "    y1=1,\n",
    "    fillcolor=\"green\",\n",
    "    opacity=0.2,\n",
    "    layer=\"below\"\n",
    ")\n",
    "\n",
    "# atualizar o layout da forma para ajustar a altura do preenchimento\n",
    "fig.update_shapes(dict(xref='x', yref='paper'))\n",
    "\n",
    "# adicionar um texto explicativo na figura\n",
    "fig.add_annotation(\n",
    "    x=55000,\n",
    "    y=75,\n",
    "    text=\"40k clientes (+-42% do total)<br> representam +-80% das vendas\",\n",
    "    font=dict(\n",
    "        size=14,\n",
    "        color=\"black\"\n",
    "    ),\n",
    "    showarrow=False,\n",
    ")\n",
    "\n",
    "# exibir a figura\n",
    "fig.show()"
   ]
  },
  {
   "cell_type": "markdown",
   "id": "418b3613",
   "metadata": {
    "papermill": {
     "duration": 0.022558,
     "end_time": "2022-07-20T18:10:33.854078",
     "exception": false,
     "start_time": "2022-07-20T18:10:33.831520",
     "status": "completed"
    },
    "tags": []
   },
   "source": [
    "<h2 style=\"color: orange\">Quem são os clientes que mais gastam?</h2>\n",
    "\n",
    "\n",
    "Os resultados dessa análise podem gerar diversos insights para a área de marketing! Por exemplo:\n",
    "- Monitorar os clientes que mais gastam\n",
    "- Oferecer promoções\n",
    "- Tentar vender mais produtos\n",
    "- Realizar entregas personalizadas"
   ]
  },
  {
   "cell_type": "code",
   "execution_count": null,
   "id": "234cc71d",
   "metadata": {},
   "outputs": [],
   "source": [
    "# renomear a coluna \"payment_value\" para \"total_paid\"\n",
    "top_customers.rename(columns={\"payment_value\" : \"total_paid\"}, inplace=True)\n",
    "\n",
    "# criar um gráfico de barras do Plotly\n",
    "fig = px.bar(top_customers[:10], x=\"total_paid\", y=\"customer_unique_id\", orientation=\"h\")\n",
    "\n",
    "# atualizar as configurações de layout do gráfico\n",
    "fig.update_layout(\n",
    "    title=\"Top 10 Clientes por Valor Total Pago\",\n",
    "    xaxis_title=\"Valor Total Pago\",\n",
    "    yaxis_title=\"ID do Cliente Único\"\n",
    ")\n",
    "\n",
    "# exibir o gráfico\n",
    "fig.show()\n"
   ]
  },
  {
   "cell_type": "markdown",
   "id": "ad704bd4",
   "metadata": {
    "papermill": {
     "duration": 0.023612,
     "end_time": "2022-07-20T18:10:34.209680",
     "exception": false,
     "start_time": "2022-07-20T18:10:34.186068",
     "status": "completed"
    },
    "tags": []
   },
   "source": [
    "<h2 style=\"color: orange\">Principais cidades por número de pedidos por estado.</h2>"
   ]
  },
  {
   "cell_type": "code",
   "execution_count": null,
   "id": "2c4c2a08",
   "metadata": {
    "execution": {
     "iopub.execute_input": "2022-07-20T18:10:34.258837Z",
     "iopub.status.busy": "2022-07-20T18:10:34.258148Z",
     "iopub.status.idle": "2022-07-20T18:10:34.507724Z",
     "shell.execute_reply": "2022-07-20T18:10:34.506924Z"
    },
    "papermill": {
     "duration": 0.27665,
     "end_time": "2022-07-20T18:10:34.509893",
     "exception": false,
     "start_time": "2022-07-20T18:10:34.233243",
     "status": "completed"
    },
    "tags": []
   },
   "outputs": [],
   "source": [
    "# agrupar o dataframe por \"customer_state\" e contar o número de \"order_id\" por estado\n",
    "top_orders_cities = data.groupby(\"customer_state\")[\"order_id\"].count().reset_index().sort_values(\"order_id\", ascending=False)\n",
    "\n",
    "# renomear a coluna \"order_id\" para \"count\"\n",
    "top_orders_cities.rename(columns={\"order_id\":\"count\"}, inplace=True)\n",
    "\n",
    "# criar um gráfico de barras do Plotly\n",
    "fig = px.bar(top_orders_cities[:10], x=\"count\", y=\"customer_state\", orientation=\"h\")\n",
    "\n",
    "# atualizar as configurações de layout do gráfico\n",
    "fig.update_layout(\n",
    "    title=\"TOP 10 Estados por Número de Pedidos\",\n",
    "    xaxis_title=\"Número de Pedidos\",\n",
    "    yaxis_title=\"Estado\"\n",
    ")\n",
    "\n",
    "# exibir o gráfico\n",
    "fig.show()\n"
   ]
  },
  {
   "cell_type": "markdown",
   "id": "79d198b4",
   "metadata": {
    "papermill": {
     "duration": 0.02434,
     "end_time": "2022-07-20T18:10:34.558348",
     "exception": false,
     "start_time": "2022-07-20T18:10:34.534008",
     "status": "completed"
    },
    "tags": []
   },
   "source": [
    "<h2 style=\"color: orange\">Cidades com maior geração de receita.</h2>"
   ]
  },
  {
   "cell_type": "code",
   "execution_count": null,
   "id": "9e300bf3",
   "metadata": {
    "execution": {
     "iopub.execute_input": "2022-07-20T18:10:34.608277Z",
     "iopub.status.busy": "2022-07-20T18:10:34.607651Z",
     "iopub.status.idle": "2022-07-20T18:10:34.635088Z",
     "shell.execute_reply": "2022-07-20T18:10:34.634221Z"
    },
    "papermill": {
     "duration": 0.055374,
     "end_time": "2022-07-20T18:10:34.637588",
     "exception": false,
     "start_time": "2022-07-20T18:10:34.582214",
     "status": "completed"
    },
    "tags": []
   },
   "outputs": [],
   "source": [
    "top_ordersbyvalue_cities = data.groupby(\"customer_city\")[\"payment_value\"].sum().reset_index().sort_values(\"payment_value\", ascending=False)\n",
    "top_ordersbyvalue_cities[\"% of Total Payments\"] = (top_ordersbyvalue_cities[\"payment_value\"] / top_ordersbyvalue_cities[\"payment_value\"].sum()) * 100\n",
    "top_ordersbyvalue_cities[\"Cum % of Total Payments\"] = top_ordersbyvalue_cities[\"% of Total Payments\"].cumsum() "
   ]
  },
  {
   "cell_type": "code",
   "execution_count": null,
   "id": "0b7f9a40",
   "metadata": {
    "execution": {
     "iopub.execute_input": "2022-07-20T18:10:34.688273Z",
     "iopub.status.busy": "2022-07-20T18:10:34.687633Z",
     "iopub.status.idle": "2022-07-20T18:10:34.925737Z",
     "shell.execute_reply": "2022-07-20T18:10:34.924632Z"
    },
    "papermill": {
     "duration": 0.266131,
     "end_time": "2022-07-20T18:10:34.928139",
     "exception": false,
     "start_time": "2022-07-20T18:10:34.662008",
     "status": "completed"
    },
    "tags": []
   },
   "outputs": [],
   "source": [
    "# criar um gráfico de barras do Plotly\n",
    "fig = px.bar(top_ordersbyvalue_cities[:10], x=\"% of Total Payments\", y=\"customer_city\", orientation=\"h\")\n",
    "\n",
    "# atualizar as configurações de layout do gráfico\n",
    "fig.update_layout(\n",
    "    title=\"TOP 10 Cidades por Geração de Receita\",\n",
    "    xaxis_title=\"Porcentagem do Total de Pagamentos\",\n",
    "    yaxis_title=\"Cidade do Cliente\"\n",
    ")\n",
    "\n",
    "# exibir o gráfico\n",
    "fig.show()\n"
   ]
  },
  {
   "cell_type": "code",
   "execution_count": null,
   "id": "63ce96b2",
   "metadata": {},
   "outputs": [],
   "source": [
    "# criar um gráfico de linha do Plotly\n",
    "fig = px.line(top_ordersbyvalue_cities, x=range(1, len(top_ordersbyvalue_cities)+1), y=\"Cum % of Total Payments\")\n",
    "\n",
    "# atualizar as configurações de layout do gráfico\n",
    "fig.update_layout(\n",
    "    title=\"% de Contribuição das Vendas por Número de Cidades\",\n",
    "    xaxis_title=\"Número de Cidades\",\n",
    "    yaxis_title=\"% de Contribuição para as Vendas\"\n",
    ")\n",
    "\n",
    "# preencher a área abaixo da curva\n",
    "fig.add_shape(\n",
    "    type=\"rect\",\n",
    "    xref=\"x\",\n",
    "    yref=\"y\",\n",
    "    x0=0,\n",
    "    y0=0,\n",
    "    x1=358,\n",
    "    y1=top_ordersbyvalue_cities[\"Cum % of Total Payments\"][357],\n",
    "    fillcolor=\"green\",\n",
    "    opacity=0.3,\n",
    "    layer=\"below\",\n",
    "    line_width=0\n",
    ")\n",
    "\n",
    "# adicionar um texto ao gráfico\n",
    "fig.add_annotation(\n",
    "    x=1000,\n",
    "    y=70,\n",
    "    text=\"358 cidades (+-8,7% do total) <br>contribuem para +-80% das vendas.\",\n",
    "    font=dict(\n",
    "        size=14,\n",
    "        color=\"black\"\n",
    "    ),\n",
    "    showarrow=False\n",
    ")\n",
    "\n",
    "# exibir o gráfico\n",
    "fig.show()\n"
   ]
  },
  {
   "cell_type": "code",
   "execution_count": null,
   "id": "9485d883",
   "metadata": {
    "execution": {
     "iopub.execute_input": "2022-07-20T18:10:35.407039Z",
     "iopub.status.busy": "2022-07-20T18:10:35.406026Z",
     "iopub.status.idle": "2022-07-20T18:10:35.415679Z",
     "shell.execute_reply": "2022-07-20T18:10:35.414403Z"
    },
    "papermill": {
     "duration": 0.039457,
     "end_time": "2022-07-20T18:10:35.418757",
     "exception": false,
     "start_time": "2022-07-20T18:10:35.379300",
     "status": "completed"
    },
    "tags": []
   },
   "outputs": [],
   "source": [
    "print(\"Número de cidades que contribuem com 80% das vendas totais:\",\n",
    "      len(top_ordersbyvalue_cities[top_ordersbyvalue_cities[\"Cum % of Total Payments\"] <= 80]),\n",
    "      \"ou em in %:\",\n",
    "      (len(top_ordersbyvalue_cities[top_ordersbyvalue_cities[\"Cum % of Total Payments\"] <= 80]) / len(top_ordersbyvalue_cities)) * 100)"
   ]
  },
  {
   "cell_type": "markdown",
   "id": "7ff18152",
   "metadata": {
    "papermill": {
     "duration": 0.024844,
     "end_time": "2022-07-20T18:10:35.470224",
     "exception": false,
     "start_time": "2022-07-20T18:10:35.445380",
     "status": "completed"
    },
    "tags": []
   },
   "source": [
    "<h2 style=\"color: orange\">Como os pedidos variam ao longo do tempo?</h2>"
   ]
  },
  {
   "cell_type": "code",
   "execution_count": null,
   "id": "486306e3",
   "metadata": {
    "execution": {
     "iopub.execute_input": "2022-07-20T18:10:35.522410Z",
     "iopub.status.busy": "2022-07-20T18:10:35.522008Z",
     "iopub.status.idle": "2022-07-20T18:10:36.624219Z",
     "shell.execute_reply": "2022-07-20T18:10:36.623127Z"
    },
    "papermill": {
     "duration": 1.131682,
     "end_time": "2022-07-20T18:10:36.627043",
     "exception": false,
     "start_time": "2022-07-20T18:10:35.495361",
     "status": "completed"
    },
    "tags": []
   },
   "outputs": [],
   "source": [
    "# Total de pedidos por hora e dia da semana\n",
    "# Mas antes precisamos converter as colunas de datas para datetime\n",
    "datesCols = [\"order_purchase_timestamp\", \"order_approved_at\", \"order_delivered_carrier_date\", \n",
    "            \"order_delivered_customer_date\", \"order_estimated_delivery_date\", \"shipping_limit_date\", \n",
    "            \"review_creation_date\", \"review_answer_timestamp\"]\n",
    "\n",
    "for col in datesCols:\n",
    "    data[col] = pd.to_datetime(data[col])"
   ]
  },
  {
   "cell_type": "code",
   "execution_count": null,
   "id": "7b9d35ba",
   "metadata": {
    "execution": {
     "iopub.execute_input": "2022-07-20T18:10:36.680225Z",
     "iopub.status.busy": "2022-07-20T18:10:36.679384Z",
     "iopub.status.idle": "2022-07-20T18:10:36.758480Z",
     "shell.execute_reply": "2022-07-20T18:10:36.757499Z"
    },
    "papermill": {
     "duration": 0.108413,
     "end_time": "2022-07-20T18:10:36.761047",
     "exception": false,
     "start_time": "2022-07-20T18:10:36.652634",
     "status": "completed"
    },
    "tags": []
   },
   "outputs": [],
   "source": [
    "# Orders by hour\n",
    "orders_df[\"order_purchase_timestamp\"] = pd.to_datetime(orders_df[\"order_purchase_timestamp\"])\n",
    "orderbyhour = orders_df.groupby(orders_df[\"order_purchase_timestamp\"].dt.hour)[\"order_id\"].count().reset_index().sort_values(by=\"order_purchase_timestamp\", ascending=False)\n",
    "orderbyhour.rename(columns={\"order_id\":\"Total Orders\", \"order_purchase_timestamp\": \"Hour of Day\"}, inplace=True)"
   ]
  },
  {
   "cell_type": "code",
   "execution_count": null,
   "id": "a6d4e700",
   "metadata": {},
   "outputs": [],
   "source": [
    "fig = px.bar(orderbyhour, x='Hour of Day', y='Total Orders', title='Número de pedidos por hora do dia')\n",
    "fig.update_xaxes(title='Hora do dia')\n",
    "fig.update_yaxes(title='Número total de pedidos')\n",
    "fig.show()\n"
   ]
  },
  {
   "cell_type": "markdown",
   "id": "e459b155",
   "metadata": {
    "papermill": {
     "duration": 0.025829,
     "end_time": "2022-07-20T18:10:37.197702",
     "exception": false,
     "start_time": "2022-07-20T18:10:37.171873",
     "status": "completed"
    },
    "tags": []
   },
   "source": [
    "Os pedidos começam a aumentar por volta das 6h da manhã e atingem o pico às 4 da tarde."
   ]
  },
  {
   "cell_type": "code",
   "execution_count": null,
   "id": "64e71523",
   "metadata": {
    "execution": {
     "iopub.execute_input": "2022-07-20T18:10:37.251797Z",
     "iopub.status.busy": "2022-07-20T18:10:37.251417Z",
     "iopub.status.idle": "2022-07-20T18:10:37.338343Z",
     "shell.execute_reply": "2022-07-20T18:10:37.337239Z"
    },
    "papermill": {
     "duration": 0.117561,
     "end_time": "2022-07-20T18:10:37.341361",
     "exception": false,
     "start_time": "2022-07-20T18:10:37.223800",
     "status": "completed"
    },
    "tags": []
   },
   "outputs": [],
   "source": [
    "# Orders by day of the week\n",
    "orderbydow = data.groupby(data[\"order_purchase_timestamp\"].dt.day_name())[\"order_id\"].count().reset_index()\n",
    "orderbydow.rename(columns={\"order_id\":\"Total Orders\", \"order_purchase_timestamp\": \"Weekday Name\"}, inplace=True)\n",
    "orderbydow = orderbydow.sort_values(by=\"Total Orders\", ascending=False)"
   ]
  },
  {
   "cell_type": "code",
   "execution_count": null,
   "id": "e20e2315",
   "metadata": {},
   "outputs": [],
   "source": [
    "fig = px.bar(orderbydow, x='Weekday Name', y='Total Orders', title='Número de pedidos por dia da semana')\n",
    "fig.update_xaxes(title='Dia da semana')\n",
    "fig.update_yaxes(title='Número total de pedidos')\n",
    "fig.show()\n"
   ]
  },
  {
   "cell_type": "code",
   "execution_count": null,
   "id": "d75b5f46",
   "metadata": {},
   "outputs": [],
   "source": [
    "# Define a ordem dos dias da semana\n",
    "weekday_order = ['Monday', 'Tuesday', 'Wednesday', 'Thursday', 'Friday', 'Saturday', 'Sunday']\n",
    "\n",
    "# Converte a coluna \"Weekday Name\" em uma categoria ordenada\n",
    "weekday = pd.Categorical(orderbydow['Weekday Name'], categories=weekday_order, ordered=True)\n",
    "\n",
    "# Cria um novo dataframe ordenado pela coluna de categoria \"weekday\"\n",
    "orderbydow_ordered = orderbydow.assign(weekday=weekday).sort_values('weekday')\n",
    "\n",
    "# Cria um gráfico de barras com os dias da semana em ordem\n",
    "fig = px.bar(orderbydow_ordered, x='weekday', y='Total Orders', title='Número de pedidos por dia da semana')\n",
    "fig.update_xaxes(title='Dia da semana')\n",
    "fig.update_yaxes(title='Número total de pedidos')\n",
    "fig.show()\n"
   ]
  },
  {
   "cell_type": "markdown",
   "id": "cce37552",
   "metadata": {
    "papermill": {
     "duration": 0.026772,
     "end_time": "2022-07-20T18:10:37.669141",
     "exception": false,
     "start_time": "2022-07-20T18:10:37.642369",
     "status": "completed"
    },
    "tags": []
   },
   "source": [
    "Os pedidos atingem o pico no início da semana (segunda e terça-feira) e começam a declinar um pouco depois. Durante o final de semana, observa-se uma diminuição acentuada dos pedidos."
   ]
  },
  {
   "cell_type": "markdown",
   "id": "3dc01d2b",
   "metadata": {
    "papermill": {
     "duration": 0.026167,
     "end_time": "2022-07-20T18:10:37.721873",
     "exception": false,
     "start_time": "2022-07-20T18:10:37.695706",
     "status": "completed"
    },
    "tags": []
   },
   "source": [
    "<h2 style=\"color: orange\">Como os produtos são avaliados?</h2>"
   ]
  },
  {
   "cell_type": "code",
   "execution_count": null,
   "id": "0abb1a3b",
   "metadata": {},
   "outputs": [],
   "source": [
    "reviewsocres = data.groupby(\"product_category_name\")[\"review_score\"].agg([\"mean\", \"count\"]).sort_values(by=\"mean\",ascending=False)\n",
    "bestrated = reviewsocres[reviewsocres[\"count\"]>=30][:10]\n",
    "\n",
    "fig = go.Figure(go.Bar(\n",
    "            x=bestrated['mean'],\n",
    "            y=bestrated.index,\n",
    "            orientation='h'))\n",
    "\n",
    "fig.update_layout(\n",
    "    title='Produtos com as melhores avaliações',\n",
    "    xaxis_title='Avaliação média',\n",
    "    yaxis_title='Categoria do produto',\n",
    "    height=600,\n",
    "    width=800,\n",
    "    margin=dict(l=100, r=20, t=50, b=50),\n",
    ")\n",
    "\n",
    "fig.show()\n"
   ]
  },
  {
   "cell_type": "code",
   "execution_count": null,
   "id": "b351a1ae",
   "metadata": {},
   "outputs": [],
   "source": [
    "reviewsocres = data.groupby(\"product_category_name\")[\"review_score\"].agg([\"mean\", \"count\"]).sort_values(by=\"mean\",ascending=False)\n",
    "worstrated = reviewsocres[reviewsocres[\"count\"]>=30].sort_values(by='mean')[:10]\n",
    "\n",
    "fig = go.Figure(go.Bar(\n",
    "            x=worstrated['mean'],\n",
    "            y=worstrated.index,\n",
    "            orientation='h'))\n",
    "\n",
    "fig.update_layout(\n",
    "    title='Produtos com as piores avaliações',\n",
    "    xaxis_title='Avaliação média',\n",
    "    yaxis_title='Categoria do produto',\n",
    "    height=600,\n",
    "    width=800,\n",
    "    margin=dict(l=100, r=20, t=50, b=50),\n",
    ")\n",
    "\n",
    "fig.show()\n"
   ]
  },
  {
   "cell_type": "markdown",
   "id": "c9be574d",
   "metadata": {
    "papermill": {
     "duration": 0.026977,
     "end_time": "2022-07-20T18:10:37.940552",
     "exception": false,
     "start_time": "2022-07-20T18:10:37.913575",
     "status": "completed"
    },
    "tags": []
   },
   "source": [
    "<h2 style=\"color: #6c5b7b\">O método de pagamento afeta o status do pedido?</h2>\n",
    "\n",
    "\n",
    "<p>.</p>\n",
    "\n"
   ]
  },
  {
   "cell_type": "code",
   "execution_count": null,
   "id": "501e8874",
   "metadata": {
    "execution": {
     "iopub.execute_input": "2022-07-20T18:10:37.997181Z",
     "iopub.status.busy": "2022-07-20T18:10:37.995976Z",
     "iopub.status.idle": "2022-07-20T18:10:38.141470Z",
     "shell.execute_reply": "2022-07-20T18:10:38.140232Z"
    },
    "papermill": {
     "duration": 0.176392,
     "end_time": "2022-07-20T18:10:38.143935",
     "exception": false,
     "start_time": "2022-07-20T18:10:37.967543",
     "status": "completed"
    },
    "tags": []
   },
   "outputs": [],
   "source": [
    "# Por exemplo: o pagamento em dinheiro aumenta o cancelamento de pedidos?\n",
    "cashvscancel = pd.crosstab(data[\"payment_type\"], data[\"order_status\"])\n",
    "cashvscancel = cashvscancel[[\"canceled\", \"delivered\"]]\n",
    "cashvscancel[\"% Canceled\"] = (cashvscancel[\"canceled\"] / cashvscancel[\"delivered\"] ) * 100\n",
    "cashvscancel[\"Avg Cancelation Rate\"] = (len(data[data[\"order_status\"] == \"canceled\"]) / len(data[data[\"order_status\"] == \"delivered\"])) * 100\n",
    "cashvscancel\n"
   ]
  },
  {
   "cell_type": "markdown",
   "id": "b0875bb2",
   "metadata": {
    "papermill": {
     "duration": 0.027854,
     "end_time": "2022-07-20T18:10:38.200388",
     "exception": false,
     "start_time": "2022-07-20T18:10:38.172534",
     "status": "completed"
    },
    "tags": []
   },
   "source": [
    "Podemos ver que a taxa de cancelamento é praticamente a mesma em todos os métodos de pagamento. Mas notamos uma leve desvio acima da média para o cartão de crédito."
   ]
  },
  {
   "cell_type": "markdown",
   "id": "c6d58b73",
   "metadata": {
    "papermill": {
     "duration": 0.027181,
     "end_time": "2022-07-20T18:10:38.254493",
     "exception": false,
     "start_time": "2022-07-20T18:10:38.227312",
     "status": "completed"
    },
    "tags": []
   },
   "source": [
    "<h2 style=\"color: orange\">Existe alguma relação entre o tempo de entrega e as pontuações das avaliações?</h2>"
   ]
  },
  {
   "cell_type": "code",
   "execution_count": null,
   "id": "99450b76",
   "metadata": {
    "execution": {
     "iopub.execute_input": "2022-07-20T18:10:38.310896Z",
     "iopub.status.busy": "2022-07-20T18:10:38.310213Z",
     "iopub.status.idle": "2022-07-20T18:10:39.776616Z",
     "shell.execute_reply": "2022-07-20T18:10:39.775411Z"
    },
    "papermill": {
     "duration": 1.497666,
     "end_time": "2022-07-20T18:10:39.779018",
     "exception": false,
     "start_time": "2022-07-20T18:10:38.281352",
     "status": "completed"
    },
    "tags": []
   },
   "outputs": [],
   "source": [
    "# Adicionando uma coluna delta que calcula o tempo que levou para o pedido ser entregue\n",
    "data[\"TimeToDeliveryinHours\"] = (data[\"order_delivered_customer_date\"] - data[\"order_purchase_timestamp\"])\n",
    "data[\"TimeToDeliveryinHours\"] = data[\"TimeToDeliveryinHours\"].apply(lambda x: x.total_seconds())\n",
    "data[\"TimeToDeliveryinHours\"] = round((data[\"TimeToDeliveryinHours\"] / 3600) / 24, 2)\n",
    "data.rename(columns={\"TimeToDeliveryinHours\" : \"TimeToDeliveryinDays\"}, inplace=True)"
   ]
  },
  {
   "cell_type": "code",
   "execution_count": null,
   "id": "57352838",
   "metadata": {
    "execution": {
     "iopub.execute_input": "2022-07-20T18:10:39.835076Z",
     "iopub.status.busy": "2022-07-20T18:10:39.834389Z",
     "iopub.status.idle": "2022-07-20T18:10:39.860111Z",
     "shell.execute_reply": "2022-07-20T18:10:39.859198Z"
    },
    "papermill": {
     "duration": 0.056352,
     "end_time": "2022-07-20T18:10:39.862454",
     "exception": false,
     "start_time": "2022-07-20T18:10:39.806102",
     "status": "completed"
    },
    "tags": []
   },
   "outputs": [],
   "source": [
    "# Principais estatísticas do tempo de entrega\n",
    "data[[\"TimeToDeliveryinDays\"]].describe()"
   ]
  },
  {
   "cell_type": "markdown",
   "id": "568b6572",
   "metadata": {
    "papermill": {
     "duration": 0.026768,
     "end_time": "2022-07-20T18:10:39.916861",
     "exception": false,
     "start_time": "2022-07-20T18:10:39.890093",
     "status": "completed"
    },
    "tags": []
   },
   "source": [
    "O tempo médio de entrega é relativamente alto (12,44 dias), com mediana de (10,19 dias). Observamos um valor extremo atípico de 208 dias."
   ]
  },
  {
   "cell_type": "markdown",
   "id": "73536519",
   "metadata": {},
   "source": [
    "O <strong>boxplot</strong> é um gráfico que mostra como um conjunto de dados está distribuído, destacando informações como a mediana (valor que divide os dados em duas partes iguais), os valores mínimo e máximo e a presença de dados incomuns. Ele é útil para identificar a forma como os dados estão agrupados e se existem pontos que se destacam do restante do conjunto."
   ]
  },
  {
   "cell_type": "code",
   "execution_count": null,
   "id": "652a975d",
   "metadata": {},
   "outputs": [],
   "source": [
    "\n",
    "# Define a ordem crescente dos valores da pontuação de avaliação\n",
    "score_order = sorted(data['review_score'].unique())\n",
    "\n",
    "# Converte a coluna \"review_score\" em uma categoria ordenada\n",
    "score = pd.Categorical(data['review_score'], categories=score_order, ordered=True)\n",
    "\n",
    "# Cria um novo dataframe ordenado pela coluna de categoria \"score\"\n",
    "data_ordered = data.assign(score=score).sort_values('score')\n",
    "\n",
    "# Cria um seletor de pontuação de avaliação em ordem crescente\n",
    "fig = px.box(data_ordered, x='score', y='TimeToDeliveryinDays', color='score',\n",
    "             title='Relação entre a pontuação da avaliação e o tempo de entrega')\n",
    "\n",
    "fig.update_xaxes(title='Pontuação da avaliação')\n",
    "fig.update_yaxes(title='Tempo de entrega (dias)')\n",
    "\n",
    "fig.show()\n"
   ]
  },
  {
   "cell_type": "markdown",
   "id": "bab1f63e",
   "metadata": {
    "papermill": {
     "duration": 0.027821,
     "end_time": "2022-07-20T18:10:40.267815",
     "exception": false,
     "start_time": "2022-07-20T18:10:40.239994",
     "status": "completed"
    },
    "tags": []
   },
   "source": [
    "Podemos ver que temos vários valores atípicos. Estes são pedidos que demoraram muito para serem entregues por algum motivo."
   ]
  },
  {
   "cell_type": "code",
   "execution_count": null,
   "id": "a385025f",
   "metadata": {},
   "outputs": [],
   "source": [
    "# Define o limite superior dos valores\n",
    "q_high = data[\"TimeToDeliveryinDays\"].quantile(0.95)\n",
    "\n",
    "# Cria um novo dataframe sem os valores atípicos\n",
    "data_no_outliers = data[data[\"TimeToDeliveryinDays\"] < q_high]\n",
    "\n",
    "# Define a ordem crescente dos valores da pontuação de avaliação\n",
    "score_order = sorted(data_no_outliers['review_score'].unique())\n",
    "\n",
    "# Converte a coluna \"review_score\" em uma categoria ordenada\n",
    "score = pd.Categorical(data_no_outliers['review_score'], categories=score_order, ordered=True)\n",
    "\n",
    "# Cria um novo dataframe com a coluna de categoria \"score\"\n",
    "data_score = data_no_outliers.assign(score=score)\n",
    "\n",
    "data_score = data_score.assign(score=score).sort_values('score')\n",
    "\n",
    "# Cria um seletor de pontuação de avaliação em ordem crescente\n",
    "fig = px.box(data_score, x='score', y='TimeToDeliveryinDays', color='score',\n",
    "             title='Relação entre a pontuação da avaliação e o tempo de entrega')\n",
    "\n",
    "fig.update_xaxes(title='Pontuação da avaliação', categoryorder='array', categoryarray=score_order)\n",
    "fig.update_yaxes(title='Tempo de entrega (dias)')\n",
    "\n",
    "fig.show()\n"
   ]
  },
  {
   "cell_type": "markdown",
   "id": "ae7f1681",
   "metadata": {
    "papermill": {
     "duration": 0.027821,
     "end_time": "2022-07-20T18:10:40.662224",
     "exception": false,
     "start_time": "2022-07-20T18:10:40.634403",
     "status": "completed"
    },
    "tags": []
   },
   "source": [
    "Podemos claramente observar uma relação direta entre o tempo de entrega e a pontuação da avaliação. À medida que o tempo de entrega diminui, a pontuação da avaliação tende a aumentar."
   ]
  },
  {
   "cell_type": "markdown",
   "id": "f27c07f3",
   "metadata": {
    "papermill": {
     "duration": 0.028733,
     "end_time": "2022-07-20T18:10:40.719641",
     "exception": false,
     "start_time": "2022-07-20T18:10:40.690908",
     "status": "completed"
    },
    "tags": []
   },
   "source": [
    "<h2 style=\"color: orange\">Quais são as cidades dos vendedores com menor/maior tempo de entrega?</h2>"
   ]
  },
  {
   "cell_type": "code",
   "execution_count": null,
   "id": "fa0739f9",
   "metadata": {
    "execution": {
     "iopub.execute_input": "2022-07-20T18:10:40.779551Z",
     "iopub.status.busy": "2022-07-20T18:10:40.778828Z",
     "iopub.status.idle": "2022-07-20T18:10:40.809096Z",
     "shell.execute_reply": "2022-07-20T18:10:40.808222Z"
    },
    "papermill": {
     "duration": 0.062595,
     "end_time": "2022-07-20T18:10:40.811535",
     "exception": false,
     "start_time": "2022-07-20T18:10:40.748940",
     "status": "completed"
    },
    "tags": []
   },
   "outputs": [],
   "source": [
    "# Vendedores com melhor tempo de entrega\n",
    "sellersdeliverytime = data.groupby(\"seller_city\")[\"TimeToDeliveryinDays\"].agg([\"min\", \"max\", \"mean\", \"std\", \"count\" ]).dropna().sort_values(\"mean\").reset_index()\n",
    "# Filtro para vendedores com 30 ou mais pedidos em seu histórico\n",
    "sellersdeliverytime = sellersdeliverytime[sellersdeliverytime[\"count\"]>=30]"
   ]
  },
  {
   "cell_type": "code",
   "execution_count": null,
   "id": "3735a92c",
   "metadata": {
    "execution": {
     "iopub.execute_input": "2022-07-20T18:10:40.871437Z",
     "iopub.status.busy": "2022-07-20T18:10:40.870539Z",
     "iopub.status.idle": "2022-07-20T18:10:40.876853Z",
     "shell.execute_reply": "2022-07-20T18:10:40.876027Z"
    },
    "papermill": {
     "duration": 0.038594,
     "end_time": "2022-07-20T18:10:40.879061",
     "exception": false,
     "start_time": "2022-07-20T18:10:40.840467",
     "status": "completed"
    },
    "tags": []
   },
   "outputs": [],
   "source": [
    "fastestdeliverysellers = sellersdeliverytime[:10]\n",
    "slowestdeliverysellers = sellersdeliverytime.sort_values(\"mean\", ascending=False)[:10]"
   ]
  },
  {
   "cell_type": "code",
   "execution_count": null,
   "id": "6b24175b",
   "metadata": {
    "execution": {
     "iopub.execute_input": "2022-07-20T18:10:40.940891Z",
     "iopub.status.busy": "2022-07-20T18:10:40.940060Z",
     "iopub.status.idle": "2022-07-20T18:10:40.956392Z",
     "shell.execute_reply": "2022-07-20T18:10:40.955200Z"
    },
    "papermill": {
     "duration": 0.050591,
     "end_time": "2022-07-20T18:10:40.958957",
     "exception": false,
     "start_time": "2022-07-20T18:10:40.908366",
     "status": "completed"
    },
    "tags": []
   },
   "outputs": [],
   "source": [
    "# Vendedores com entrega mais rápida.\n",
    "fastestdeliverysellers"
   ]
  },
  {
   "cell_type": "code",
   "execution_count": null,
   "id": "a6665f82",
   "metadata": {},
   "outputs": [],
   "source": [
    "# Vendedores com entrega mais lenta.\n",
    "slowestdeliverysellers"
   ]
  },
  {
   "cell_type": "code",
   "execution_count": null,
   "id": "5520c513",
   "metadata": {
    "execution": {
     "iopub.execute_input": "2022-07-20T18:10:41.020528Z",
     "iopub.status.busy": "2022-07-20T18:10:41.019518Z",
     "iopub.status.idle": "2022-07-20T18:10:41.039649Z",
     "shell.execute_reply": "2022-07-20T18:10:41.038655Z"
    },
    "papermill": {
     "duration": 0.054297,
     "end_time": "2022-07-20T18:10:41.042243",
     "exception": false,
     "start_time": "2022-07-20T18:10:40.987946",
     "status": "completed"
    },
    "tags": []
   },
   "outputs": [],
   "source": [
    "# Junte a pontuação média de avaliação à tabela acima.\n",
    "avg_review_score_seller = data.groupby(\"seller_city\")[\"review_score\"].mean().dropna().sort_values(ascending=False).reset_index()"
   ]
  },
  {
   "cell_type": "code",
   "execution_count": null,
   "id": "4e3b85ac",
   "metadata": {
    "execution": {
     "iopub.execute_input": "2022-07-20T18:10:41.103713Z",
     "iopub.status.busy": "2022-07-20T18:10:41.102760Z",
     "iopub.status.idle": "2022-07-20T18:10:41.110648Z",
     "shell.execute_reply": "2022-07-20T18:10:41.109765Z"
    },
    "papermill": {
     "duration": 0.041347,
     "end_time": "2022-07-20T18:10:41.113372",
     "exception": false,
     "start_time": "2022-07-20T18:10:41.072025",
     "status": "completed"
    },
    "tags": []
   },
   "outputs": [],
   "source": [
    "sellerPerf = sellersdeliverytime.merge(avg_review_score_seller, on=\"seller_city\")"
   ]
  },
  {
   "cell_type": "code",
   "execution_count": null,
   "id": "c694d260",
   "metadata": {},
   "outputs": [],
   "source": [
    "# Gráfico de regressão linear entre a média de tempo de entrega e a média da pontuação de avaliação\n",
    "fig = px.scatter(sellerPerf, x='mean', y='review_score', trendline='ols', \n",
    "                 title='Relação entre a média de tempo de entrega e a média da pontuação de avaliação')\n",
    "\n",
    "fig.update_xaxes(title='Média de tempo de entrega (dias)')\n",
    "fig.update_yaxes(title='Média da pontuação de avaliação')\n",
    "\n",
    "fig.show()\n"
   ]
  },
  {
   "cell_type": "markdown",
   "id": "1c455fe2",
   "metadata": {
    "papermill": {
     "duration": 0.028878,
     "end_time": "2022-07-20T18:10:41.713717",
     "exception": false,
     "start_time": "2022-07-20T18:10:41.684839",
     "status": "completed"
    },
    "tags": []
   },
   "source": [
    "<h2 style=\"color: orange\">Estados com maior/menor tempo de entrega.</h2>"
   ]
  },
  {
   "cell_type": "code",
   "execution_count": null,
   "id": "ed1a926d",
   "metadata": {},
   "outputs": [],
   "source": [
    "# Top 10 estados com o maior tempo médio de entrega\n",
    "highestTTDstates = data.groupby(\"customer_state\")[\"TimeToDeliveryinDays\"].mean().dropna().sort_values(ascending=False).reset_index()\n",
    "highestTTDstates = highestTTDstates[:10]\n",
    "\n",
    "# Gráfico de barras com o tempo médio de entrega por estado\n",
    "fig = px.bar(highestTTDstates, x='TimeToDeliveryinDays', y='customer_state',\n",
    "             orientation='h', title='Top 10 estados com o maior tempo médio de entrega')\n",
    "\n",
    "fig.update_yaxes(title='Estado')\n",
    "fig.update_xaxes(title='Tempo médio de entrega (dias)')\n",
    "\n",
    "fig.show()\n"
   ]
  },
  {
   "cell_type": "code",
   "execution_count": null,
   "id": "72061df7",
   "metadata": {},
   "outputs": [],
   "source": [
    "# Top 10 estados com o menor tempo médio de entrega\n",
    "lowestTTDstates = data.groupby(\"customer_state\")[\"TimeToDeliveryinDays\"].mean().dropna().sort_values(ascending=True).reset_index()\n",
    "lowestTTDstates = lowestTTDstates[:10]\n",
    "\n",
    "# Gráfico de barras com o tempo médio de entrega por estado\n",
    "fig = px.bar(lowestTTDstates, x='TimeToDeliveryinDays', y='customer_state',\n",
    "             orientation='h', title='Top 10 estados com o menor tempo médio de entrega')\n",
    "\n",
    "fig.update_yaxes(title='Estado')\n",
    "fig.update_xaxes(title='Tempo médio de entrega (dias)')\n",
    "\n",
    "fig.show()\n"
   ]
  },
  {
   "cell_type": "markdown",
   "id": "725b53a7",
   "metadata": {
    "papermill": {
     "duration": 0.029339,
     "end_time": "2022-07-20T18:10:42.385847",
     "exception": false,
     "start_time": "2022-07-20T18:10:42.356508",
     "status": "completed"
    },
    "tags": []
   },
   "source": [
    "<h2 style=\"color: orange\">Como o tempo médio de entrega varia ao longo do tempo?</h2>"
   ]
  },
  {
   "cell_type": "code",
   "execution_count": null,
   "id": "a107e01d",
   "metadata": {},
   "outputs": [],
   "source": [
    "# Mediana do tempo de entrega por ano\n",
    "deliverytimevstime = data.groupby(data[\"order_purchase_timestamp\"].dt.year)[\"TimeToDeliveryinDays\"].median().dropna()\n",
    "\n",
    "# Converte ano em categoria (e não um número)\n",
    "deliverytimevstime.index = deliverytimevstime.index.astype(str)\n",
    "\n",
    "# Gráfico de barras com a mediana do tempo de entrega por ano\n",
    "fig = px.bar(deliverytimevstime, x=deliverytimevstime.index, y='TimeToDeliveryinDays',\n",
    "             title='Mediana do tempo de entrega por ano')\n",
    "\n",
    "fig.update_xaxes(title='Ano')\n",
    "fig.update_yaxes(title='Mediana de entrega em dias')\n",
    "\n",
    "fig.show()\n"
   ]
  },
  {
   "cell_type": "markdown",
   "id": "cb6e841d",
   "metadata": {
    "papermill": {
     "duration": 0.030641,
     "end_time": "2022-07-20T18:10:42.729120",
     "exception": false,
     "start_time": "2022-07-20T18:10:42.698479",
     "status": "completed"
    },
    "tags": []
   },
   "source": [
    "Podemos ver que a empresa fez uma melhoria significativa no tempo de entrega. Em 2016, o tempo médio de entrega excedia 17 dias, enquanto em 2017 ele caiu para cerca de 12 dias e para cerca de 9 dias em 2018."
   ]
  },
  {
   "cell_type": "markdown",
   "id": "fd7227ce",
   "metadata": {
    "papermill": {
     "duration": 0.031485,
     "end_time": "2022-07-20T18:10:42.791250",
     "exception": false,
     "start_time": "2022-07-20T18:10:42.759765",
     "status": "completed"
    },
    "tags": []
   },
   "source": [
    "<h2 style=\"color: orange\">Como a pontuação média das avaliações varia ao longo do tempo?</h2>"
   ]
  },
  {
   "cell_type": "code",
   "execution_count": null,
   "id": "636885a0",
   "metadata": {},
   "outputs": [],
   "source": [
    "# Média da pontuação da avaliação por ano\n",
    "scorevstime = data.groupby(data[\"order_purchase_timestamp\"].dt.year)[\"review_score\"].mean().dropna()\n",
    "\n",
    "# Converte o índice do grupo em uma categoria\n",
    "scorevstime.index = scorevstime.index.astype(str)\n",
    "\n",
    "# Gráfico de barras com a média da pontuação da avaliação por ano\n",
    "fig = px.bar(scorevstime, x=scorevstime.index, y='review_score',\n",
    "             title='Média da pontuação da avaliação por ano')\n",
    "\n",
    "fig.update_xaxes(title='Ano')\n",
    "fig.update_yaxes(title='Pontuação média da avaliação')\n",
    "\n",
    "fig.show()\n"
   ]
  },
  {
   "cell_type": "markdown",
   "id": "ae311f82",
   "metadata": {
    "papermill": {
     "duration": 0.031083,
     "end_time": "2022-07-20T18:10:43.124651",
     "exception": false,
     "start_time": "2022-07-20T18:10:43.093568",
     "status": "completed"
    },
    "tags": []
   },
   "source": [
    "Os clientes estão dando pontuações melhores em 2017 e 2018 do que em 2016."
   ]
  },
  {
   "cell_type": "markdown",
   "id": "df281a43",
   "metadata": {
    "papermill": {
     "duration": 0.030893,
     "end_time": "2022-07-20T18:10:43.186533",
     "exception": false,
     "start_time": "2022-07-20T18:10:43.155640",
     "status": "completed"
    },
    "tags": []
   },
   "source": [
    "<h2 style=\"color: orange\">Quais são as categorias de produtos mais vendidas?</h2>"
   ]
  },
  {
   "cell_type": "code",
   "execution_count": null,
   "id": "0386ed22",
   "metadata": {
    "execution": {
     "iopub.execute_input": "2022-07-20T18:10:43.250635Z",
     "iopub.status.busy": "2022-07-20T18:10:43.249813Z",
     "iopub.status.idle": "2022-07-20T18:10:43.324941Z",
     "shell.execute_reply": "2022-07-20T18:10:43.323555Z"
    },
    "papermill": {
     "duration": 0.110211,
     "end_time": "2022-07-20T18:10:43.327732",
     "exception": false,
     "start_time": "2022-07-20T18:10:43.217521",
     "status": "completed"
    },
    "tags": []
   },
   "outputs": [],
   "source": [
    "top_categ_by_revenue = data.groupby(\"product_category_name\").agg({'order_id':'nunique','payment_value':'sum'}).sort_values(\"payment_value\", ascending=False)[:10]\n",
    "top_categ_by_revenue.rename(columns={\"order_id\":\"NumOfOrders\", \"payment_value\":\"Revenues\"}, inplace=True)"
   ]
  },
  {
   "cell_type": "code",
   "execution_count": null,
   "id": "188542ed",
   "metadata": {
    "execution": {
     "iopub.execute_input": "2022-07-20T18:10:43.393354Z",
     "iopub.status.busy": "2022-07-20T18:10:43.392886Z",
     "iopub.status.idle": "2022-07-20T18:10:43.405184Z",
     "shell.execute_reply": "2022-07-20T18:10:43.404305Z"
    },
    "papermill": {
     "duration": 0.048112,
     "end_time": "2022-07-20T18:10:43.407437",
     "exception": false,
     "start_time": "2022-07-20T18:10:43.359325",
     "status": "completed"
    },
    "tags": []
   },
   "outputs": [],
   "source": [
    "top_categ_by_revenue"
   ]
  },
  {
   "cell_type": "markdown",
   "id": "f33d8d76",
   "metadata": {},
   "source": [
    "<h2 style=\"color: orange\">Mapa coroplético de tempo de entrega</h2>\n",
    "\n",
    "Para fazer isso, precisamos de um arquivo que tenha as delimitações dos estados brasileiros em forma de polígonos. Podemos encontrar esse arquivo [aqui](https://github.com/fititnt/gis-dataset-brasil/tree/master/uf/geojson)\n",
    "\n",
    "<p>Para ler o arquivo, utilizaremos o <strong>Geopandas</strong>! É uma biblioteca Python que estende o poder do Pandas para permitir a manipulação de dados geoespaciais. </p>"
   ]
  },
  {
   "cell_type": "code",
   "execution_count": null,
   "id": "0ba5e0d7",
   "metadata": {
    "scrolled": true
   },
   "outputs": [],
   "source": [
    "# Agrupar os dados por estado e obter a média do tempo de entrega\n",
    "mean_delivery_time_by_state = data.groupby('customer_state')['TimeToDeliveryinDays'].mean().reset_index()\n",
    "\n",
    "mean_delivery_time_by_state"
   ]
  },
  {
   "cell_type": "code",
   "execution_count": null,
   "id": "77ec0c86",
   "metadata": {},
   "outputs": [],
   "source": [
    "import geopandas as gpd\n",
    "\n",
    "geojson_file = 'DSX-projetos/DSX-arquivos/raw/uf.json'\n",
    "geojson_data = gpd.read_file(geojson_file)"
   ]
  },
  {
   "cell_type": "code",
   "execution_count": null,
   "id": "cda25823",
   "metadata": {
    "scrolled": true
   },
   "outputs": [],
   "source": [
    "geojson_data.head(10)"
   ]
  },
  {
   "cell_type": "code",
   "execution_count": null,
   "id": "cfce6956",
   "metadata": {
    "scrolled": false
   },
   "outputs": [],
   "source": [
    "geojson_data['tempo_entrega'] = mean_delivery_time_by_state['TimeToDeliveryinDays']\n",
    "\n",
    "geojson_data.head()"
   ]
  },
  {
   "cell_type": "code",
   "execution_count": null,
   "id": "130b8442",
   "metadata": {},
   "outputs": [],
   "source": [
    "fig = px.choropleth_mapbox(geojson_data, \n",
    "                           geojson=geojson_data.geometry, \n",
    "                           locations=geojson_data.index, \n",
    "                           color='tempo_entrega',\n",
    "                           color_continuous_scale='YlOrRd',\n",
    "                           mapbox_style='open-street-map',\n",
    "                           zoom=3, center={'lat': -15.788497, 'lon': -47.879873},\n",
    "                           opacity=0.5)\n",
    "\n",
    "fig.show()\n"
   ]
  },
  {
   "cell_type": "markdown",
   "id": "011fda6a",
   "metadata": {},
   "source": [
    "<h2 style=\"color: orange\">Referências</h2>\n",
    "\n",
    "- [Brazilian Ecommerce EDA + RFM + NMF Notebook 1](https://www.kaggle.com/code/rajivaiml/brazilian-ecommerce-eda-rfm-nmf)\n",
    "- [GIS Dataset](https://github.com/fititnt/gis-dataset-brasil/tree/master/uf/geojson)"
   ]
  }
 ],
 "metadata": {
  "kernelspec": {
   "display_name": "Python 3 (ipykernel)",
   "language": "python",
   "name": "python3"
  },
  "language_info": {
   "codemirror_mode": {
    "name": "ipython",
    "version": 3
   },
   "file_extension": ".py",
   "mimetype": "text/x-python",
   "name": "python",
   "nbconvert_exporter": "python",
   "pygments_lexer": "ipython3",
   "version": "3.9.12"
  },
  "papermill": {
   "default_parameters": {},
   "duration": 63.315094,
   "end_time": "2022-07-20T18:11:14.711490",
   "environment_variables": {},
   "exception": null,
   "input_path": "__notebook__.ipynb",
   "output_path": "__notebook__.ipynb",
   "parameters": {},
   "start_time": "2022-07-20T18:10:11.396396",
   "version": "2.3.4"
  }
 },
 "nbformat": 4,
 "nbformat_minor": 5
}
